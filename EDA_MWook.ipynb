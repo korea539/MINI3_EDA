{
 "cells": [
  {
   "cell_type": "markdown",
   "id": "756891b6",
   "metadata": {},
   "source": [
    "# 모듈 import"
   ]
  },
  {
   "cell_type": "code",
   "execution_count": 1,
   "id": "8712ed50",
   "metadata": {},
   "outputs": [],
   "source": [
    "import numpy as np\n",
    "import pandas as pd\n",
    "import matplotlib.pyplot as plt\n",
    "import seaborn as sns\n",
    "from datetime import date, timedelta\n",
    "\n",
    "# https://www.kaggle.com/competitions/airbnb-recruiting-new-user-bookings/overview/evaluation"
   ]
  },
  {
   "cell_type": "markdown",
   "id": "c250cb2a",
   "metadata": {},
   "source": [
    "# 자료 불러오기"
   ]
  },
  {
   "cell_type": "code",
   "execution_count": 2,
   "id": "5617162c",
   "metadata": {},
   "outputs": [],
   "source": [
    "train = pd.read_csv(\"train_users_2.csv\", encoding=\"cp949\")\n",
    "test = pd.read_csv(\"test_users.csv\", encoding=\"cp949\")\n",
    "df_1 = pd.read_csv(\"sessions.csv\", encoding=\"cp949\")\n",
    "df_2 = pd.read_csv(\"sample_submission_NDF.csv\", encoding=\"cp949\")\n",
    "df_3 = pd.read_csv(\"countries.csv\", encoding=\"cp949\")\n",
    "df_4 = pd.read_csv(\"age_gender_bkts.csv\", encoding=\"cp949\")"
   ]
  },
  {
   "cell_type": "markdown",
   "id": "3126f645",
   "metadata": {},
   "source": [
    "# 데이터 전처리 (train과 test 데이터)"
   ]
  },
  {
   "cell_type": "code",
   "execution_count": 3,
   "id": "284b35a8",
   "metadata": {},
   "outputs": [
    {
     "data": {
      "text/plain": [
       "0    5uwns89zht\n",
       "1    jtl0dijy2j\n",
       "2    xx0ulgorjt\n",
       "3    6c6puo6ix0\n",
       "4    czqhjk3yfe\n",
       "Name: id, dtype: object"
      ]
     },
     "execution_count": 3,
     "metadata": {},
     "output_type": "execute_result"
    }
   ],
   "source": [
    "test[\"id\"].head()"
   ]
  },
  {
   "cell_type": "code",
   "execution_count": 4,
   "id": "0a7dd1f8",
   "metadata": {},
   "outputs": [
    {
     "name": "stdout",
     "output_type": "stream",
     "text": [
      "(213451, 16)\n"
     ]
    },
    {
     "data": {
      "text/html": [
       "<div>\n",
       "<style scoped>\n",
       "    .dataframe tbody tr th:only-of-type {\n",
       "        vertical-align: middle;\n",
       "    }\n",
       "\n",
       "    .dataframe tbody tr th {\n",
       "        vertical-align: top;\n",
       "    }\n",
       "\n",
       "    .dataframe thead th {\n",
       "        text-align: right;\n",
       "    }\n",
       "</style>\n",
       "<table border=\"1\" class=\"dataframe\">\n",
       "  <thead>\n",
       "    <tr style=\"text-align: right;\">\n",
       "      <th></th>\n",
       "      <th>id</th>\n",
       "      <th>date_account_created</th>\n",
       "      <th>timestamp_first_active</th>\n",
       "      <th>date_first_booking</th>\n",
       "      <th>gender</th>\n",
       "      <th>age</th>\n",
       "      <th>signup_method</th>\n",
       "      <th>signup_flow</th>\n",
       "      <th>language</th>\n",
       "      <th>affiliate_channel</th>\n",
       "      <th>affiliate_provider</th>\n",
       "      <th>first_affiliate_tracked</th>\n",
       "      <th>signup_app</th>\n",
       "      <th>first_device_type</th>\n",
       "      <th>first_browser</th>\n",
       "      <th>country_destination</th>\n",
       "    </tr>\n",
       "  </thead>\n",
       "  <tbody>\n",
       "    <tr>\n",
       "      <th>0</th>\n",
       "      <td>gxn3p5htnn</td>\n",
       "      <td>2010-06-28</td>\n",
       "      <td>20090319043255</td>\n",
       "      <td>NaN</td>\n",
       "      <td>-unknown-</td>\n",
       "      <td>NaN</td>\n",
       "      <td>facebook</td>\n",
       "      <td>0</td>\n",
       "      <td>en</td>\n",
       "      <td>direct</td>\n",
       "      <td>direct</td>\n",
       "      <td>untracked</td>\n",
       "      <td>Web</td>\n",
       "      <td>Mac Desktop</td>\n",
       "      <td>Chrome</td>\n",
       "      <td>NDF</td>\n",
       "    </tr>\n",
       "    <tr>\n",
       "      <th>1</th>\n",
       "      <td>820tgsjxq7</td>\n",
       "      <td>2011-05-25</td>\n",
       "      <td>20090523174809</td>\n",
       "      <td>NaN</td>\n",
       "      <td>MALE</td>\n",
       "      <td>38.0</td>\n",
       "      <td>facebook</td>\n",
       "      <td>0</td>\n",
       "      <td>en</td>\n",
       "      <td>seo</td>\n",
       "      <td>google</td>\n",
       "      <td>untracked</td>\n",
       "      <td>Web</td>\n",
       "      <td>Mac Desktop</td>\n",
       "      <td>Chrome</td>\n",
       "      <td>NDF</td>\n",
       "    </tr>\n",
       "  </tbody>\n",
       "</table>\n",
       "</div>"
      ],
      "text/plain": [
       "           id date_account_created  timestamp_first_active date_first_booking  \\\n",
       "0  gxn3p5htnn           2010-06-28          20090319043255                NaN   \n",
       "1  820tgsjxq7           2011-05-25          20090523174809                NaN   \n",
       "\n",
       "      gender   age signup_method  signup_flow language affiliate_channel  \\\n",
       "0  -unknown-   NaN      facebook            0       en            direct   \n",
       "1       MALE  38.0      facebook            0       en               seo   \n",
       "\n",
       "  affiliate_provider first_affiliate_tracked signup_app first_device_type  \\\n",
       "0             direct               untracked        Web       Mac Desktop   \n",
       "1             google               untracked        Web       Mac Desktop   \n",
       "\n",
       "  first_browser country_destination  \n",
       "0        Chrome                 NDF  \n",
       "1        Chrome                 NDF  "
      ]
     },
     "execution_count": 4,
     "metadata": {},
     "output_type": "execute_result"
    }
   ],
   "source": [
    "print(train.shape)\n",
    "train.head(2)"
   ]
  },
  {
   "cell_type": "code",
   "execution_count": 5,
   "id": "674f7b59",
   "metadata": {},
   "outputs": [
    {
     "name": "stdout",
     "output_type": "stream",
     "text": [
      "(62096, 15)\n"
     ]
    },
    {
     "data": {
      "text/html": [
       "<div>\n",
       "<style scoped>\n",
       "    .dataframe tbody tr th:only-of-type {\n",
       "        vertical-align: middle;\n",
       "    }\n",
       "\n",
       "    .dataframe tbody tr th {\n",
       "        vertical-align: top;\n",
       "    }\n",
       "\n",
       "    .dataframe thead th {\n",
       "        text-align: right;\n",
       "    }\n",
       "</style>\n",
       "<table border=\"1\" class=\"dataframe\">\n",
       "  <thead>\n",
       "    <tr style=\"text-align: right;\">\n",
       "      <th></th>\n",
       "      <th>id</th>\n",
       "      <th>date_account_created</th>\n",
       "      <th>timestamp_first_active</th>\n",
       "      <th>date_first_booking</th>\n",
       "      <th>gender</th>\n",
       "      <th>age</th>\n",
       "      <th>signup_method</th>\n",
       "      <th>signup_flow</th>\n",
       "      <th>language</th>\n",
       "      <th>affiliate_channel</th>\n",
       "      <th>affiliate_provider</th>\n",
       "      <th>first_affiliate_tracked</th>\n",
       "      <th>signup_app</th>\n",
       "      <th>first_device_type</th>\n",
       "      <th>first_browser</th>\n",
       "    </tr>\n",
       "  </thead>\n",
       "  <tbody>\n",
       "    <tr>\n",
       "      <th>0</th>\n",
       "      <td>5uwns89zht</td>\n",
       "      <td>2014-07-01</td>\n",
       "      <td>20140701000006</td>\n",
       "      <td>NaN</td>\n",
       "      <td>FEMALE</td>\n",
       "      <td>35.0</td>\n",
       "      <td>facebook</td>\n",
       "      <td>0</td>\n",
       "      <td>en</td>\n",
       "      <td>direct</td>\n",
       "      <td>direct</td>\n",
       "      <td>untracked</td>\n",
       "      <td>Moweb</td>\n",
       "      <td>iPhone</td>\n",
       "      <td>Mobile Safari</td>\n",
       "    </tr>\n",
       "    <tr>\n",
       "      <th>1</th>\n",
       "      <td>jtl0dijy2j</td>\n",
       "      <td>2014-07-01</td>\n",
       "      <td>20140701000051</td>\n",
       "      <td>NaN</td>\n",
       "      <td>-unknown-</td>\n",
       "      <td>NaN</td>\n",
       "      <td>basic</td>\n",
       "      <td>0</td>\n",
       "      <td>en</td>\n",
       "      <td>direct</td>\n",
       "      <td>direct</td>\n",
       "      <td>untracked</td>\n",
       "      <td>Moweb</td>\n",
       "      <td>iPhone</td>\n",
       "      <td>Mobile Safari</td>\n",
       "    </tr>\n",
       "  </tbody>\n",
       "</table>\n",
       "</div>"
      ],
      "text/plain": [
       "           id date_account_created  timestamp_first_active  \\\n",
       "0  5uwns89zht           2014-07-01          20140701000006   \n",
       "1  jtl0dijy2j           2014-07-01          20140701000051   \n",
       "\n",
       "   date_first_booking     gender   age signup_method  signup_flow language  \\\n",
       "0                 NaN     FEMALE  35.0      facebook            0       en   \n",
       "1                 NaN  -unknown-   NaN         basic            0       en   \n",
       "\n",
       "  affiliate_channel affiliate_provider first_affiliate_tracked signup_app  \\\n",
       "0            direct             direct               untracked      Moweb   \n",
       "1            direct             direct               untracked      Moweb   \n",
       "\n",
       "  first_device_type  first_browser  \n",
       "0            iPhone  Mobile Safari  \n",
       "1            iPhone  Mobile Safari  "
      ]
     },
     "execution_count": 5,
     "metadata": {},
     "output_type": "execute_result"
    }
   ],
   "source": [
    "print(test.shape)\n",
    "test.head(2)"
   ]
  },
  {
   "cell_type": "markdown",
   "id": "ad328291",
   "metadata": {},
   "source": [
    "## id 컬럼 (삭제, 의미 없음)"
   ]
  },
  {
   "cell_type": "code",
   "execution_count": 6,
   "id": "a8ca6d17",
   "metadata": {},
   "outputs": [],
   "source": [
    "# 의미없는 id 컬럼 삭제\n",
    "\n",
    "train = train.drop(columns=\"id\")\n",
    "test = test.drop(columns=\"id\")"
   ]
  },
  {
   "cell_type": "code",
   "execution_count": 7,
   "id": "e68c5e32",
   "metadata": {},
   "outputs": [
    {
     "name": "stdout",
     "output_type": "stream",
     "text": [
      "<class 'pandas.core.frame.DataFrame'>\n",
      "RangeIndex: 213451 entries, 0 to 213450\n",
      "Data columns (total 15 columns):\n",
      " #   Column                   Non-Null Count   Dtype  \n",
      "---  ------                   --------------   -----  \n",
      " 0   date_account_created     213451 non-null  object \n",
      " 1   timestamp_first_active   213451 non-null  int64  \n",
      " 2   date_first_booking       88908 non-null   object \n",
      " 3   gender                   213451 non-null  object \n",
      " 4   age                      125461 non-null  float64\n",
      " 5   signup_method            213451 non-null  object \n",
      " 6   signup_flow              213451 non-null  int64  \n",
      " 7   language                 213451 non-null  object \n",
      " 8   affiliate_channel        213451 non-null  object \n",
      " 9   affiliate_provider       213451 non-null  object \n",
      " 10  first_affiliate_tracked  207386 non-null  object \n",
      " 11  signup_app               213451 non-null  object \n",
      " 12  first_device_type        213451 non-null  object \n",
      " 13  first_browser            213451 non-null  object \n",
      " 14  country_destination      213451 non-null  object \n",
      "dtypes: float64(1), int64(2), object(12)\n",
      "memory usage: 24.4+ MB\n",
      "None\n",
      "<class 'pandas.core.frame.DataFrame'>\n",
      "RangeIndex: 62096 entries, 0 to 62095\n",
      "Data columns (total 14 columns):\n",
      " #   Column                   Non-Null Count  Dtype  \n",
      "---  ------                   --------------  -----  \n",
      " 0   date_account_created     62096 non-null  object \n",
      " 1   timestamp_first_active   62096 non-null  int64  \n",
      " 2   date_first_booking       0 non-null      float64\n",
      " 3   gender                   62096 non-null  object \n",
      " 4   age                      33220 non-null  float64\n",
      " 5   signup_method            62096 non-null  object \n",
      " 6   signup_flow              62096 non-null  int64  \n",
      " 7   language                 62096 non-null  object \n",
      " 8   affiliate_channel        62096 non-null  object \n",
      " 9   affiliate_provider       62096 non-null  object \n",
      " 10  first_affiliate_tracked  62076 non-null  object \n",
      " 11  signup_app               62096 non-null  object \n",
      " 12  first_device_type        62096 non-null  object \n",
      " 13  first_browser            62096 non-null  object \n",
      "dtypes: float64(2), int64(2), object(10)\n",
      "memory usage: 6.6+ MB\n"
     ]
    }
   ],
   "source": [
    "# 데이터 타입, 결측치 확인\n",
    "\n",
    "print(train.info())\n",
    "test.info()"
   ]
  },
  {
   "cell_type": "markdown",
   "id": "a40326e9",
   "metadata": {},
   "source": [
    "## date_first_booking 컬럼 (삭제, test에 값이 없음)"
   ]
  },
  {
   "cell_type": "code",
   "execution_count": 8,
   "id": "97f2f700",
   "metadata": {},
   "outputs": [],
   "source": [
    "train = train.drop(columns=\"date_first_booking\")\n",
    "test = test.drop(columns=\"date_first_booking\")"
   ]
  },
  {
   "cell_type": "markdown",
   "id": "0965f386",
   "metadata": {},
   "source": [
    "## date_account_created 컬럼 (타입 변경)"
   ]
  },
  {
   "cell_type": "code",
   "execution_count": 9,
   "id": "5f30e2d4",
   "metadata": {},
   "outputs": [],
   "source": [
    "# datetime 타입으로 변환\n",
    "\n",
    "train[\"date_account_created\"] = pd.to_datetime(train[\"date_account_created\"])\n",
    "test[\"date_account_created\"] = pd.to_datetime(test[\"date_account_created\"])"
   ]
  },
  {
   "cell_type": "markdown",
   "id": "cebc1b51",
   "metadata": {},
   "source": [
    "## timestamp_first_active 컬럼 (시분초 값은 삭제, 타입 변경)"
   ]
  },
  {
   "cell_type": "code",
   "execution_count": 10,
   "id": "1d78b161",
   "metadata": {},
   "outputs": [],
   "source": [
    "# 시분초 값은 제외\n",
    "\n",
    "train[\"timestamp_first_active\"] = train[\"timestamp_first_active\"].map(lambda x : str(x)[:8])\n",
    "test[\"timestamp_first_active\"] = test[\"timestamp_first_active\"].map(lambda x : str(x)[:8])"
   ]
  },
  {
   "cell_type": "code",
   "execution_count": 11,
   "id": "dc7e67af",
   "metadata": {},
   "outputs": [],
   "source": [
    "# 그 값을 다시 datetime 타입으로 변환\n",
    "\n",
    "train[\"timestamp_first_active\"] = pd.to_datetime(train[\"timestamp_first_active\"])\n",
    "test[\"timestamp_first_active\"] = pd.to_datetime(test[\"timestamp_first_active\"])"
   ]
  },
  {
   "cell_type": "markdown",
   "id": "1ab68579",
   "metadata": {},
   "source": [
    "## gender 컬럼 (unknown 값, other 값 처리 의문)"
   ]
  },
  {
   "cell_type": "code",
   "execution_count": 12,
   "id": "d7f6419a",
   "metadata": {},
   "outputs": [
    {
     "data": {
      "text/plain": [
       "-unknown-    95688\n",
       "FEMALE       63041\n",
       "MALE         54440\n",
       "OTHER          282\n",
       "Name: gender, dtype: int64"
      ]
     },
     "execution_count": 12,
     "metadata": {},
     "output_type": "execute_result"
    }
   ],
   "source": [
    "train[\"gender\"].value_counts()"
   ]
  },
  {
   "cell_type": "code",
   "execution_count": 13,
   "id": "a6497197",
   "metadata": {},
   "outputs": [],
   "source": [
    "train.loc[train['gender'] == 'OTHER', 'gender'] = '-unknown-'\n",
    "train.loc[train['gender'] == '-unknown-', 'gender'] = 'unknown'"
   ]
  },
  {
   "cell_type": "code",
   "execution_count": 14,
   "id": "53451215",
   "metadata": {},
   "outputs": [],
   "source": [
    "test.loc[test['gender'] == 'OTHER', 'gender'] = '-unknown-'\n",
    "test.loc[test['gender'] == '-unknown-', 'gender'] = 'unknown'"
   ]
  },
  {
   "cell_type": "markdown",
   "id": "695c03d2",
   "metadata": {},
   "source": [
    "## age 컬럼 (결측치 존재, interpolate 사용, 컬럼 생성함)"
   ]
  },
  {
   "cell_type": "code",
   "execution_count": 15,
   "id": "f552547d",
   "metadata": {},
   "outputs": [],
   "source": [
    "train.loc[train['age']<10, 'age'] = np.nan\n",
    "train.loc[train['age']>=100, 'age'] = np.nan"
   ]
  },
  {
   "cell_type": "code",
   "execution_count": 16,
   "id": "dc611d36",
   "metadata": {},
   "outputs": [
    {
     "data": {
      "text/plain": [
       "<AxesSubplot:ylabel='Frequency'>"
      ]
     },
     "execution_count": 16,
     "metadata": {},
     "output_type": "execute_result"
    },
    {
     "data": {
      "image/png": "[encoded data removed]",
      "text/plain": [
       "<Figure size 432x288 with 1 Axes>"
      ]
     },
     "metadata": {
      "needs_background": "light"
     },
     "output_type": "display_data"
    }
   ],
   "source": [
    "train.age.plot(kind='hist',bins=50)"
   ]
  },
  {
   "cell_type": "code",
   "execution_count": 17,
   "id": "cfba9113",
   "metadata": {},
   "outputs": [],
   "source": [
    "train['age_unknown'] = train['age'].isna()\n",
    "train['age_over75%'] = train['age'] > 42\n",
    "train['age_25-75%'] = (train['age'] > 28) & (train['age'] <= 42)\n",
    "train['age_under75%'] = train['age'] <= 28"
   ]
  },
  {
   "cell_type": "code",
   "execution_count": 18,
   "id": "fee81c0c",
   "metadata": {},
   "outputs": [],
   "source": [
    "test['age_unknown'] = test['age'].isna()\n",
    "test['age_over75%'] = test['age'] > 42\n",
    "test['age_25-75%'] = (test['age'] > 28) & (test['age'] <= 42)\n",
    "test['age_under75%'] = test['age'] <= 28"
   ]
  },
  {
   "cell_type": "code",
   "execution_count": 19,
   "id": "4918148a",
   "metadata": {},
   "outputs": [
    {
     "name": "stdout",
     "output_type": "stream",
     "text": [
      "<class 'pandas.core.frame.DataFrame'>\n",
      "RangeIndex: 213451 entries, 0 to 213450\n",
      "Data columns (total 18 columns):\n",
      " #   Column                   Non-Null Count   Dtype         \n",
      "---  ------                   --------------   -----         \n",
      " 0   date_account_created     213451 non-null  datetime64[ns]\n",
      " 1   timestamp_first_active   213451 non-null  datetime64[ns]\n",
      " 2   gender                   213451 non-null  object        \n",
      " 3   age                      123033 non-null  float64       \n",
      " 4   signup_method            213451 non-null  object        \n",
      " 5   signup_flow              213451 non-null  int64         \n",
      " 6   language                 213451 non-null  object        \n",
      " 7   affiliate_channel        213451 non-null  object        \n",
      " 8   affiliate_provider       213451 non-null  object        \n",
      " 9   first_affiliate_tracked  207386 non-null  object        \n",
      " 10  signup_app               213451 non-null  object        \n",
      " 11  first_device_type        213451 non-null  object        \n",
      " 12  first_browser            213451 non-null  object        \n",
      " 13  country_destination      213451 non-null  object        \n",
      " 14  age_unknown              213451 non-null  bool          \n",
      " 15  age_over75%              213451 non-null  bool          \n",
      " 16  age_25-75%               213451 non-null  bool          \n",
      " 17  age_under75%             213451 non-null  bool          \n",
      "dtypes: bool(4), datetime64[ns](2), float64(1), int64(1), object(10)\n",
      "memory usage: 23.6+ MB\n"
     ]
    }
   ],
   "source": [
    "train.info()"
   ]
  },
  {
   "cell_type": "code",
   "execution_count": null,
   "id": "c62675d8",
   "metadata": {},
   "outputs": [],
   "source": []
  },
  {
   "cell_type": "markdown",
   "id": "a82f0b3c",
   "metadata": {},
   "source": [
    "## signup_method 컬럼 (결측치 없음, object)"
   ]
  },
  {
   "cell_type": "code",
   "execution_count": 20,
   "id": "7a47cea6",
   "metadata": {},
   "outputs": [
    {
     "name": "stdout",
     "output_type": "stream",
     "text": [
      "basic       152897\n",
      "facebook     60008\n",
      "google         546\n",
      "Name: signup_method, dtype: int64\n"
     ]
    },
    {
     "data": {
      "text/plain": [
       "basic       45325\n",
       "facebook    14856\n",
       "google       1892\n",
       "weibo          23\n",
       "Name: signup_method, dtype: int64"
      ]
     },
     "execution_count": 20,
     "metadata": {},
     "output_type": "execute_result"
    }
   ],
   "source": [
    "print(train[\"signup_method\"].value_counts())\n",
    "test[\"signup_method\"].value_counts()"
   ]
  },
  {
   "cell_type": "code",
   "execution_count": 21,
   "id": "6e087a46",
   "metadata": {},
   "outputs": [],
   "source": [
    "test.loc[test[\"signup_method\"] == \"weibo\", \"signup_method\"] = \"basic\""
   ]
  },
  {
   "cell_type": "markdown",
   "id": "a7108286",
   "metadata": {},
   "source": [
    "## signup_flow 컬럼 (결측치 없음, 의미 없는 데이터로 분류 후 삭제)"
   ]
  },
  {
   "cell_type": "code",
   "execution_count": 22,
   "id": "11aaea98",
   "metadata": {},
   "outputs": [],
   "source": [
    "train = train.drop(columns=\"signup_flow\")\n",
    "test = test.drop(columns=\"signup_flow\")"
   ]
  },
  {
   "cell_type": "markdown",
   "id": "8b41139d",
   "metadata": {},
   "source": [
    "## language 컬럼 (결측치 없음, object, 100 이하의 값들은 Etc로 분류)"
   ]
  },
  {
   "cell_type": "code",
   "execution_count": 23,
   "id": "b472b83e",
   "metadata": {},
   "outputs": [
    {
     "name": "stdout",
     "output_type": "stream",
     "text": [
      "25\n",
      "Index(['en', 'zh', 'fr', 'es', 'ko', 'de', 'it', 'ru', 'pt', 'ja', 'sv'], dtype='object')\n"
     ]
    },
    {
     "data": {
      "text/plain": [
       "12"
      ]
     },
     "execution_count": 23,
     "metadata": {},
     "output_type": "execute_result"
    }
   ],
   "source": [
    "# 100 이하의 값들은 Etc로 정리\n",
    "\n",
    "print(train[\"language\"].nunique())\n",
    "language_count = train[\"language\"].value_counts()\n",
    "language_not_Etc = language_count[train[\"language\"].value_counts() > 100].index\n",
    "train.loc[~train[\"language\"].isin(language_not_Etc), \"language\"] = \"Etc\"\n",
    "print(language_not_Etc)\n",
    "train[\"language\"].nunique()"
   ]
  },
  {
   "cell_type": "code",
   "execution_count": 24,
   "id": "02449f83",
   "metadata": {},
   "outputs": [
    {
     "name": "stdout",
     "output_type": "stream",
     "text": [
      "en     59224\n",
      "zh      1002\n",
      "ko       369\n",
      "fr       336\n",
      "es       259\n",
      "de       245\n",
      "Etc      167\n",
      "ja       120\n",
      "it       119\n",
      "ru       119\n",
      "pt        82\n",
      "sv        54\n",
      "Name: language, dtype: int64\n"
     ]
    },
    {
     "data": {
      "text/plain": [
       "12"
      ]
     },
     "execution_count": 24,
     "metadata": {},
     "output_type": "execute_result"
    }
   ],
   "source": [
    "test.loc[~test[\"language\"].isin(language_not_Etc), \"language\"] = \"Etc\"\n",
    "print(test[\"language\"].value_counts())\n",
    "test[\"language\"].nunique()"
   ]
  },
  {
   "cell_type": "markdown",
   "id": "9bfc0129",
   "metadata": {},
   "source": [
    "## affiliate_channel 컬럼 (결측치 없음, object, api 값을 other 항목으로 대체)"
   ]
  },
  {
   "cell_type": "code",
   "execution_count": 25,
   "id": "a435f6c4",
   "metadata": {},
   "outputs": [
    {
     "name": "stdout",
     "output_type": "stream",
     "text": [
      "direct           137727\n",
      "sem-brand         26045\n",
      "sem-non-brand     18844\n",
      "other              8961\n",
      "seo                8663\n",
      "api                8167\n",
      "content            3948\n",
      "remarketing        1096\n",
      "Name: affiliate_channel, dtype: int64\n"
     ]
    },
    {
     "data": {
      "text/plain": [
       "direct           43844\n",
       "sem-brand        10394\n",
       "seo               5699\n",
       "sem-non-brand     1231\n",
       "other              586\n",
       "remarketing        172\n",
       "content            170\n",
       "Name: affiliate_channel, dtype: int64"
      ]
     },
     "execution_count": 25,
     "metadata": {},
     "output_type": "execute_result"
    }
   ],
   "source": [
    "print(train[\"affiliate_channel\"].value_counts())\n",
    "test[\"affiliate_channel\"].value_counts()"
   ]
  },
  {
   "cell_type": "code",
   "execution_count": 26,
   "id": "e15330d4",
   "metadata": {},
   "outputs": [],
   "source": [
    "train.loc[train[\"affiliate_channel\"] == \"api\", \"affiliate_channel\"] = \"other\""
   ]
  },
  {
   "cell_type": "markdown",
   "id": "c69cced5",
   "metadata": {},
   "source": [
    "## affiliate_provider 컬럼 (결측치 없음, object, 100개 이하의 값들은 Etc로 분류)"
   ]
  },
  {
   "cell_type": "code",
   "execution_count": 27,
   "id": "068435f7",
   "metadata": {},
   "outputs": [
    {
     "name": "stdout",
     "output_type": "stream",
     "text": [
      "['direct' 'google' 'other' 'craigslist' 'facebook' 'vast' 'bing' 'meetup'\n",
      " 'facebook-open-graph' 'email-marketing' 'yahoo' 'padmapper' 'gsp' 'wayn'\n",
      " 'naver' 'baidu' 'yandex' 'daum']\n",
      "Index(['direct', 'google', 'other', 'craigslist', 'bing', 'facebook', 'vast',\n",
      "       'padmapper', 'facebook-open-graph', 'yahoo', 'gsp', 'meetup',\n",
      "       'email-marketing'],\n",
      "      dtype='object')\n"
     ]
    },
    {
     "data": {
      "text/plain": [
       "14"
      ]
     },
     "execution_count": 27,
     "metadata": {},
     "output_type": "execute_result"
    }
   ],
   "source": [
    "# train 18 / test 17\n",
    "\n",
    "print(train[\"affiliate_provider\"].unique())\n",
    "train[\"affiliate_provider\"].value_counts()\n",
    "aff_pro_count = train[\"affiliate_provider\"].value_counts()\n",
    "aff_pro_count_Etc = aff_pro_count[train[\"affiliate_provider\"].value_counts() > 100].index\n",
    "train.loc[~train[\"affiliate_provider\"].isin(aff_pro_count_Etc), \"affiliate_provider\"] = \"Etc\"\n",
    "print(aff_pro_count_Etc)\n",
    "train[\"affiliate_provider\"].nunique()"
   ]
  },
  {
   "cell_type": "code",
   "execution_count": 28,
   "id": "25ecfa79",
   "metadata": {},
   "outputs": [
    {
     "data": {
      "text/plain": [
       "14"
      ]
     },
     "execution_count": 28,
     "metadata": {},
     "output_type": "execute_result"
    }
   ],
   "source": [
    "test.loc[~test[\"affiliate_provider\"].isin(aff_pro_count_Etc), \"affiliate_provider\"] = \"Etc\"\n",
    "test[\"affiliate_provider\"].nunique()"
   ]
  },
  {
   "cell_type": "markdown",
   "id": "8e1f06ae",
   "metadata": {},
   "source": [
    "## first_affiliate_tracked 컬럼 (결측치 있음, object)"
   ]
  },
  {
   "cell_type": "code",
   "execution_count": 29,
   "id": "cbf9bc03",
   "metadata": {},
   "outputs": [],
   "source": [
    "train[\"first_affiliate_tracked_filled\"] = train[\"first_affiliate_tracked\"].fillna(\"-unknown-\")\n",
    "test[\"first_affiliate_tracked_filled\"] = test[\"first_affiliate_tracked\"].fillna(\"-unknown-\")"
   ]
  },
  {
   "cell_type": "code",
   "execution_count": 30,
   "id": "11dd0a68",
   "metadata": {},
   "outputs": [
    {
     "name": "stdout",
     "output_type": "stream",
     "text": [
      "untracked        109232\n",
      "linked            46287\n",
      "omg               43982\n",
      "tracked-other      6156\n",
      "-unknown-          6065\n",
      "product            1556\n",
      "marketing           139\n",
      "local ops            34\n",
      "Name: first_affiliate_tracked_filled, dtype: int64\n"
     ]
    },
    {
     "data": {
      "text/plain": [
       "untracked        33949\n",
       "linked           15777\n",
       "omg              10877\n",
       "product            797\n",
       "tracked-other      499\n",
       "marketing          142\n",
       "local ops           35\n",
       "-unknown-           20\n",
       "Name: first_affiliate_tracked_filled, dtype: int64"
      ]
     },
     "execution_count": 30,
     "metadata": {},
     "output_type": "execute_result"
    }
   ],
   "source": [
    "print(train[\"first_affiliate_tracked_filled\"].value_counts())\n",
    "test[\"first_affiliate_tracked_filled\"].value_counts()"
   ]
  },
  {
   "cell_type": "markdown",
   "id": "ec5f0b38",
   "metadata": {},
   "source": [
    "## signup_app 컬럼 (결측치 없음, object)"
   ]
  },
  {
   "cell_type": "code",
   "execution_count": 31,
   "id": "333d20b1",
   "metadata": {},
   "outputs": [
    {
     "name": "stdout",
     "output_type": "stream",
     "text": [
      "Web        182717\n",
      "iOS         19019\n",
      "Moweb        6261\n",
      "Android      5454\n",
      "Name: signup_app, dtype: int64\n"
     ]
    },
    {
     "data": {
      "text/plain": [
       "Web        37201\n",
       "iOS        15574\n",
       "Android     5065\n",
       "Moweb       4256\n",
       "Name: signup_app, dtype: int64"
      ]
     },
     "execution_count": 31,
     "metadata": {},
     "output_type": "execute_result"
    }
   ],
   "source": [
    "print(train[\"signup_app\"].value_counts())\n",
    "test[\"signup_app\"].value_counts()"
   ]
  },
  {
   "cell_type": "markdown",
   "id": "a7ed4d7c",
   "metadata": {},
   "source": [
    "## first_device_type 컬럼 (결측치 없음, object)"
   ]
  },
  {
   "cell_type": "code",
   "execution_count": 32,
   "id": "bd2f909f",
   "metadata": {},
   "outputs": [
    {
     "name": "stdout",
     "output_type": "stream",
     "text": [
      "Mac Desktop           89600\n",
      "Windows Desktop       72716\n",
      "iPhone                20759\n",
      "iPad                  14339\n",
      "Other/Unknown         10667\n",
      "Android Phone          2803\n",
      "Android Tablet         1292\n",
      "Desktop (Other)        1199\n",
      "SmartPhone (Other)       76\n",
      "Name: first_device_type, dtype: int64\n"
     ]
    },
    {
     "data": {
      "text/plain": [
       "iPhone                19055\n",
       "Mac Desktop           16728\n",
       "Windows Desktop       14232\n",
       "Android Phone          6655\n",
       "iPad                   3697\n",
       "Android Tablet          806\n",
       "Other/Unknown           500\n",
       "Desktop (Other)         308\n",
       "SmartPhone (Other)      115\n",
       "Name: first_device_type, dtype: int64"
      ]
     },
     "execution_count": 32,
     "metadata": {},
     "output_type": "execute_result"
    }
   ],
   "source": [
    "print(train[\"first_device_type\"].value_counts())\n",
    "test[\"first_device_type\"].value_counts()"
   ]
  },
  {
   "cell_type": "markdown",
   "id": "ba37f5ed",
   "metadata": {},
   "source": [
    "## first_browser 컬럼 (결측치 없음, object, unknown 값도 있고 train과 test 인덱스 값도 다르다. 참고해서 확인하자.)"
   ]
  },
  {
   "cell_type": "code",
   "execution_count": 33,
   "id": "42c12c2c",
   "metadata": {
    "scrolled": true
   },
   "outputs": [
    {
     "name": "stdout",
     "output_type": "stream",
     "text": [
      "Chrome                  63845\n",
      "Safari                  45169\n",
      "Firefox                 33655\n",
      "-unknown-               27266\n",
      "IE                      21068\n",
      "Mobile Safari           19274\n",
      "Chrome Mobile            1270\n",
      "Android Browser           851\n",
      "AOL Explorer              245\n",
      "Opera                     188\n",
      "Silk                      124\n",
      "Chromium                   73\n",
      "BlackBerry Browser         53\n",
      "Maxthon                    46\n",
      "IE Mobile                  36\n",
      "Apple Mail                 36\n",
      "Sogou Explorer             33\n",
      "Mobile Firefox             30\n",
      "SiteKiosk                  24\n",
      "RockMelt                   24\n",
      "Iron                       17\n",
      "IceWeasel                  13\n",
      "Pale Moon                  12\n",
      "SeaMonkey                  11\n",
      "CometBird                  11\n",
      "Yandex.Browser             11\n",
      "Camino                      9\n",
      "TenFourFox                  8\n",
      "CoolNovo                    6\n",
      "wOSBrowser                  6\n",
      "Avant Browser               4\n",
      "Opera Mini                  4\n",
      "Mozilla                     3\n",
      "TheWorld Browser            2\n",
      "Flock                       2\n",
      "Comodo Dragon               2\n",
      "OmniWeb                     2\n",
      "SlimBrowser                 2\n",
      "Crazy Browser               2\n",
      "Opera Mobile                2\n",
      "Epic                        1\n",
      "Stainless                   1\n",
      "Googlebot                   1\n",
      "Outlook 2007                1\n",
      "Arora                       1\n",
      "NetNewsWire                 1\n",
      "PS Vita browser             1\n",
      "Google Earth                1\n",
      "Conkeror                    1\n",
      "Kindle Browser              1\n",
      "Palm Pre web browser        1\n",
      "IceDragon                   1\n",
      "Name: first_browser, dtype: int64\n"
     ]
    },
    {
     "data": {
      "text/plain": [
       "-unknown-             17128\n",
       "Chrome                14826\n",
       "Mobile Safari         10362\n",
       "Safari                 8133\n",
       "Firefox                5010\n",
       "IE                     3676\n",
       "Chrome Mobile          1916\n",
       "Android Browser         726\n",
       "IE Mobile                82\n",
       "Silk                     48\n",
       "Opera                    40\n",
       "BlackBerry Browser       36\n",
       "Mobile Firefox           34\n",
       "Maxthon                  14\n",
       "Chromium                 10\n",
       "Sogou Explorer           10\n",
       "AOL Explorer              9\n",
       "Apple Mail                9\n",
       "Iron                      7\n",
       "Opera Mini                4\n",
       "SiteKiosk                 3\n",
       "Yandex.Browser            3\n",
       "Opera Mobile              2\n",
       "IBrowse                   1\n",
       "wOSBrowser                1\n",
       "Pale Moon                 1\n",
       "Nintendo Browser          1\n",
       "SeaMonkey                 1\n",
       "CometBird                 1\n",
       "IceWeasel                 1\n",
       "UC Browser                1\n",
       "Name: first_browser, dtype: int64"
      ]
     },
     "execution_count": 33,
     "metadata": {},
     "output_type": "execute_result"
    }
   ],
   "source": [
    "print(train[\"first_browser\"].value_counts())\n",
    "test[\"first_browser\"].value_counts()"
   ]
  },
  {
   "cell_type": "code",
   "execution_count": 34,
   "id": "963ccfd1",
   "metadata": {},
   "outputs": [],
   "source": [
    "first_browser_count = train[\"first_browser\"].value_counts()\n",
    "first_browser_not_Etc = first_browser_count[train[\"first_browser\"].value_counts() > 100].index\n",
    "train.loc[~train[\"first_browser\"].isin(first_browser_not_Etc), \"first_browser\"] = \"Etc\""
   ]
  },
  {
   "cell_type": "code",
   "execution_count": 35,
   "id": "e66e3558",
   "metadata": {},
   "outputs": [],
   "source": [
    "test.loc[~test[\"first_browser\"].isin(first_browser_not_Etc), \"first_browser\"] = \"Etc\""
   ]
  },
  {
   "cell_type": "markdown",
   "id": "bc5e726e",
   "metadata": {},
   "source": [
    "## country_destination 컬럼 (결측치 없음, object, label 컬럼, NDF = No Destinatio Found, 목적지를 찾을 수 없는 경우)"
   ]
  },
  {
   "cell_type": "code",
   "execution_count": 36,
   "id": "f4a95691",
   "metadata": {},
   "outputs": [
    {
     "data": {
      "text/plain": [
       "NDF      124543\n",
       "US        62376\n",
       "other     10094\n",
       "FR         5023\n",
       "IT         2835\n",
       "GB         2324\n",
       "ES         2249\n",
       "CA         1428\n",
       "DE         1061\n",
       "NL          762\n",
       "AU          539\n",
       "PT          217\n",
       "Name: country_destination, dtype: int64"
      ]
     },
     "execution_count": 36,
     "metadata": {},
     "output_type": "execute_result"
    }
   ],
   "source": [
    "train[\"country_destination\"].value_counts()"
   ]
  },
  {
   "cell_type": "markdown",
   "id": "d32240e7",
   "metadata": {},
   "source": [
    "## 날짜 형식 인코딩 (\"date_account_created\" = \"DAC\" / \"timestamp_first_active\" = \"TFA\")"
   ]
  },
  {
   "cell_type": "code",
   "execution_count": 37,
   "id": "fbe9236a",
   "metadata": {},
   "outputs": [],
   "source": [
    "train[\"DAC_Y\"] = train[\"date_account_created\"].dt.year\n",
    "train[\"DAC_M\"] = train[\"date_account_created\"].dt.month\n",
    "# train[\"DAC_D\"] = train[\"date_account_created\"].dt.day\n",
    "train[\"TFA_Y\"] = train[\"timestamp_first_active\"].dt.year\n",
    "train[\"TFA_M\"] = train[\"timestamp_first_active\"].dt.month\n",
    "# train[\"TFA_D\"] = train[\"timestamp_first_active\"].dt.day"
   ]
  },
  {
   "cell_type": "code",
   "execution_count": 38,
   "id": "8170247c",
   "metadata": {},
   "outputs": [],
   "source": [
    "test[\"DAC_Y\"] = test[\"date_account_created\"].dt.year\n",
    "test[\"DAC_M\"] = test[\"date_account_created\"].dt.month\n",
    "# test[\"DAC_D\"] = test[\"date_account_created\"].dt.day\n",
    "test[\"TFA_Y\"] = test[\"timestamp_first_active\"].dt.year\n",
    "test[\"TFA_M\"] = test[\"timestamp_first_active\"].dt.month\n",
    "# test[\"TFA_D\"] = test[\"timestamp_first_active\"].dt.day"
   ]
  },
  {
   "cell_type": "markdown",
   "id": "f5e4b421",
   "metadata": {},
   "source": [
    "# 제출할 sample 파일 확인"
   ]
  },
  {
   "cell_type": "code",
   "execution_count": 39,
   "id": "a0b0668c",
   "metadata": {},
   "outputs": [
    {
     "data": {
      "text/html": [
       "<div>\n",
       "<style scoped>\n",
       "    .dataframe tbody tr th:only-of-type {\n",
       "        vertical-align: middle;\n",
       "    }\n",
       "\n",
       "    .dataframe tbody tr th {\n",
       "        vertical-align: top;\n",
       "    }\n",
       "\n",
       "    .dataframe thead th {\n",
       "        text-align: right;\n",
       "    }\n",
       "</style>\n",
       "<table border=\"1\" class=\"dataframe\">\n",
       "  <thead>\n",
       "    <tr style=\"text-align: right;\">\n",
       "      <th></th>\n",
       "      <th>id</th>\n",
       "      <th>country</th>\n",
       "    </tr>\n",
       "  </thead>\n",
       "  <tbody>\n",
       "    <tr>\n",
       "      <th>0</th>\n",
       "      <td>5uwns89zht</td>\n",
       "      <td>NDF</td>\n",
       "    </tr>\n",
       "    <tr>\n",
       "      <th>1</th>\n",
       "      <td>jtl0dijy2j</td>\n",
       "      <td>NDF</td>\n",
       "    </tr>\n",
       "    <tr>\n",
       "      <th>2</th>\n",
       "      <td>xx0ulgorjt</td>\n",
       "      <td>NDF</td>\n",
       "    </tr>\n",
       "  </tbody>\n",
       "</table>\n",
       "</div>"
      ],
      "text/plain": [
       "           id country\n",
       "0  5uwns89zht     NDF\n",
       "1  jtl0dijy2j     NDF\n",
       "2  xx0ulgorjt     NDF"
      ]
     },
     "execution_count": 39,
     "metadata": {},
     "output_type": "execute_result"
    }
   ],
   "source": [
    "df_2.head(3)"
   ]
  },
  {
   "cell_type": "code",
   "execution_count": 40,
   "id": "02aa4a65",
   "metadata": {},
   "outputs": [
    {
     "data": {
      "text/html": [
       "<div>\n",
       "<style scoped>\n",
       "    .dataframe tbody tr th:only-of-type {\n",
       "        vertical-align: middle;\n",
       "    }\n",
       "\n",
       "    .dataframe tbody tr th {\n",
       "        vertical-align: top;\n",
       "    }\n",
       "\n",
       "    .dataframe thead th {\n",
       "        text-align: right;\n",
       "    }\n",
       "</style>\n",
       "<table border=\"1\" class=\"dataframe\">\n",
       "  <thead>\n",
       "    <tr style=\"text-align: right;\">\n",
       "      <th></th>\n",
       "      <th>id</th>\n",
       "      <th>country</th>\n",
       "    </tr>\n",
       "  </thead>\n",
       "  <tbody>\n",
       "    <tr>\n",
       "      <th>62093</th>\n",
       "      <td>fa6260ziny</td>\n",
       "      <td>NDF</td>\n",
       "    </tr>\n",
       "    <tr>\n",
       "      <th>62094</th>\n",
       "      <td>87k0fy4ugm</td>\n",
       "      <td>NDF</td>\n",
       "    </tr>\n",
       "    <tr>\n",
       "      <th>62095</th>\n",
       "      <td>9uqfg8txu3</td>\n",
       "      <td>NDF</td>\n",
       "    </tr>\n",
       "  </tbody>\n",
       "</table>\n",
       "</div>"
      ],
      "text/plain": [
       "               id country\n",
       "62093  fa6260ziny     NDF\n",
       "62094  87k0fy4ugm     NDF\n",
       "62095  9uqfg8txu3     NDF"
      ]
     },
     "execution_count": 40,
     "metadata": {},
     "output_type": "execute_result"
    }
   ],
   "source": [
    "df_2.tail(3)"
   ]
  },
  {
   "cell_type": "markdown",
   "id": "fae53ac9",
   "metadata": {},
   "source": [
    "# train과 test로만 머신러닝 수행"
   ]
  },
  {
   "cell_type": "markdown",
   "id": "2c549f4d",
   "metadata": {},
   "source": [
    "## label name과 feature 변수로 학습시키기"
   ]
  },
  {
   "cell_type": "code",
   "execution_count": 41,
   "id": "4549091b",
   "metadata": {},
   "outputs": [
    {
     "data": {
      "text/plain": [
       "'country_destination'"
      ]
     },
     "execution_count": 41,
     "metadata": {},
     "output_type": "execute_result"
    }
   ],
   "source": [
    "label_name = \"country_destination\"\n",
    "label_name"
   ]
  },
  {
   "cell_type": "code",
   "execution_count": 42,
   "id": "d45102f4",
   "metadata": {},
   "outputs": [],
   "source": [
    "categorical_features = [\"gender\", \"signup_method\", \"language\", \"affiliate_channel\", \"affiliate_provider\", \n",
    "                       \"first_affiliate_tracked\", \"signup_app\", \"first_device_type\", \"first_browser\"]\n",
    "\n",
    "train[categorical_features] = train[categorical_features].astype('category')"
   ]
  },
  {
   "cell_type": "code",
   "execution_count": 43,
   "id": "d9fd2558",
   "metadata": {},
   "outputs": [
    {
     "name": "stdout",
     "output_type": "stream",
     "text": [
      "<class 'pandas.core.frame.DataFrame'>\n",
      "RangeIndex: 213451 entries, 0 to 213450\n",
      "Data columns (total 24 columns):\n",
      " #   Column                          Non-Null Count   Dtype         \n",
      "---  ------                          --------------   -----         \n",
      " 0   date_account_created            213451 non-null  datetime64[ns]\n",
      " 1   timestamp_first_active          213451 non-null  datetime64[ns]\n",
      " 2   gender                          213451 non-null  category      \n",
      " 3   age                             123033 non-null  float64       \n",
      " 4   signup_method                   213451 non-null  category      \n",
      " 5   language                        213451 non-null  category      \n",
      " 6   affiliate_channel               213451 non-null  category      \n",
      " 7   affiliate_provider              213451 non-null  category      \n",
      " 8   first_affiliate_tracked         207386 non-null  category      \n",
      " 9   signup_app                      213451 non-null  category      \n",
      " 10  first_device_type               213451 non-null  category      \n",
      " 11  first_browser                   213451 non-null  category      \n",
      " 12  country_destination             213451 non-null  object        \n",
      " 13  age_unknown                     213451 non-null  bool          \n",
      " 14  age_over75%                     213451 non-null  bool          \n",
      " 15  age_25-75%                      213451 non-null  bool          \n",
      " 16  age_under75%                    213451 non-null  bool          \n",
      " 17  first_affiliate_tracked_filled  213451 non-null  object        \n",
      " 18  DAC_Y                           213451 non-null  int64         \n",
      " 19  DAC_M                           213451 non-null  int64         \n",
      " 20  DAC_D                           213451 non-null  int64         \n",
      " 21  TFA_Y                           213451 non-null  int64         \n",
      " 22  TFA_M                           213451 non-null  int64         \n",
      " 23  TFA_D                           213451 non-null  int64         \n",
      "dtypes: bool(4), category(9), datetime64[ns](2), float64(1), int64(6), object(2)\n",
      "memory usage: 20.6+ MB\n"
     ]
    }
   ],
   "source": [
    "train.info()"
   ]
  },
  {
   "cell_type": "code",
   "execution_count": 44,
   "id": "da2b39d4",
   "metadata": {},
   "outputs": [
    {
     "data": {
      "text/html": [
       "<div>\n",
       "<style scoped>\n",
       "    .dataframe tbody tr th:only-of-type {\n",
       "        vertical-align: middle;\n",
       "    }\n",
       "\n",
       "    .dataframe tbody tr th {\n",
       "        vertical-align: top;\n",
       "    }\n",
       "\n",
       "    .dataframe thead th {\n",
       "        text-align: right;\n",
       "    }\n",
       "</style>\n",
       "<table border=\"1\" class=\"dataframe\">\n",
       "  <thead>\n",
       "    <tr style=\"text-align: right;\">\n",
       "      <th></th>\n",
       "      <th>DAC_Y</th>\n",
       "      <th>DAC_M</th>\n",
       "      <th>DAC_D</th>\n",
       "      <th>TFA_Y</th>\n",
       "      <th>TFA_M</th>\n",
       "      <th>TFA_D</th>\n",
       "      <th>gender</th>\n",
       "      <th>signup_method</th>\n",
       "      <th>language</th>\n",
       "      <th>affiliate_channel</th>\n",
       "      <th>affiliate_provider</th>\n",
       "      <th>signup_app</th>\n",
       "      <th>first_device_type</th>\n",
       "      <th>first_browser</th>\n",
       "      <th>age_unknown</th>\n",
       "      <th>age_over75%</th>\n",
       "      <th>age_25-75%</th>\n",
       "      <th>age_under75%</th>\n",
       "      <th>first_affiliate_tracked_filled</th>\n",
       "    </tr>\n",
       "  </thead>\n",
       "  <tbody>\n",
       "    <tr>\n",
       "      <th>0</th>\n",
       "      <td>2010</td>\n",
       "      <td>6</td>\n",
       "      <td>28</td>\n",
       "      <td>2009</td>\n",
       "      <td>3</td>\n",
       "      <td>19</td>\n",
       "      <td>unknown</td>\n",
       "      <td>facebook</td>\n",
       "      <td>en</td>\n",
       "      <td>direct</td>\n",
       "      <td>direct</td>\n",
       "      <td>Web</td>\n",
       "      <td>Mac Desktop</td>\n",
       "      <td>Chrome</td>\n",
       "      <td>True</td>\n",
       "      <td>False</td>\n",
       "      <td>False</td>\n",
       "      <td>False</td>\n",
       "      <td>untracked</td>\n",
       "    </tr>\n",
       "    <tr>\n",
       "      <th>1</th>\n",
       "      <td>2011</td>\n",
       "      <td>5</td>\n",
       "      <td>25</td>\n",
       "      <td>2009</td>\n",
       "      <td>5</td>\n",
       "      <td>23</td>\n",
       "      <td>MALE</td>\n",
       "      <td>facebook</td>\n",
       "      <td>en</td>\n",
       "      <td>seo</td>\n",
       "      <td>google</td>\n",
       "      <td>Web</td>\n",
       "      <td>Mac Desktop</td>\n",
       "      <td>Chrome</td>\n",
       "      <td>False</td>\n",
       "      <td>False</td>\n",
       "      <td>True</td>\n",
       "      <td>False</td>\n",
       "      <td>untracked</td>\n",
       "    </tr>\n",
       "    <tr>\n",
       "      <th>2</th>\n",
       "      <td>2010</td>\n",
       "      <td>9</td>\n",
       "      <td>28</td>\n",
       "      <td>2009</td>\n",
       "      <td>6</td>\n",
       "      <td>9</td>\n",
       "      <td>FEMALE</td>\n",
       "      <td>basic</td>\n",
       "      <td>en</td>\n",
       "      <td>direct</td>\n",
       "      <td>direct</td>\n",
       "      <td>Web</td>\n",
       "      <td>Windows Desktop</td>\n",
       "      <td>IE</td>\n",
       "      <td>False</td>\n",
       "      <td>True</td>\n",
       "      <td>False</td>\n",
       "      <td>False</td>\n",
       "      <td>untracked</td>\n",
       "    </tr>\n",
       "    <tr>\n",
       "      <th>3</th>\n",
       "      <td>2011</td>\n",
       "      <td>12</td>\n",
       "      <td>5</td>\n",
       "      <td>2009</td>\n",
       "      <td>10</td>\n",
       "      <td>31</td>\n",
       "      <td>FEMALE</td>\n",
       "      <td>facebook</td>\n",
       "      <td>en</td>\n",
       "      <td>direct</td>\n",
       "      <td>direct</td>\n",
       "      <td>Web</td>\n",
       "      <td>Mac Desktop</td>\n",
       "      <td>Firefox</td>\n",
       "      <td>False</td>\n",
       "      <td>False</td>\n",
       "      <td>True</td>\n",
       "      <td>False</td>\n",
       "      <td>untracked</td>\n",
       "    </tr>\n",
       "    <tr>\n",
       "      <th>4</th>\n",
       "      <td>2010</td>\n",
       "      <td>9</td>\n",
       "      <td>14</td>\n",
       "      <td>2009</td>\n",
       "      <td>12</td>\n",
       "      <td>8</td>\n",
       "      <td>unknown</td>\n",
       "      <td>basic</td>\n",
       "      <td>en</td>\n",
       "      <td>direct</td>\n",
       "      <td>direct</td>\n",
       "      <td>Web</td>\n",
       "      <td>Mac Desktop</td>\n",
       "      <td>Chrome</td>\n",
       "      <td>False</td>\n",
       "      <td>False</td>\n",
       "      <td>True</td>\n",
       "      <td>False</td>\n",
       "      <td>untracked</td>\n",
       "    </tr>\n",
       "  </tbody>\n",
       "</table>\n",
       "</div>"
      ],
      "text/plain": [
       "   DAC_Y  DAC_M  DAC_D  TFA_Y  TFA_M  TFA_D   gender signup_method language  \\\n",
       "0   2010      6     28   2009      3     19  unknown      facebook       en   \n",
       "1   2011      5     25   2009      5     23     MALE      facebook       en   \n",
       "2   2010      9     28   2009      6      9   FEMALE         basic       en   \n",
       "3   2011     12      5   2009     10     31   FEMALE      facebook       en   \n",
       "4   2010      9     14   2009     12      8  unknown         basic       en   \n",
       "\n",
       "  affiliate_channel affiliate_provider signup_app first_device_type  \\\n",
       "0            direct             direct        Web       Mac Desktop   \n",
       "1               seo             google        Web       Mac Desktop   \n",
       "2            direct             direct        Web   Windows Desktop   \n",
       "3            direct             direct        Web       Mac Desktop   \n",
       "4            direct             direct        Web       Mac Desktop   \n",
       "\n",
       "  first_browser  age_unknown  age_over75%  age_25-75%  age_under75%  \\\n",
       "0        Chrome         True        False       False         False   \n",
       "1        Chrome        False        False        True         False   \n",
       "2            IE        False         True       False         False   \n",
       "3       Firefox        False        False        True         False   \n",
       "4        Chrome        False        False        True         False   \n",
       "\n",
       "  first_affiliate_tracked_filled  \n",
       "0                      untracked  \n",
       "1                      untracked  \n",
       "2                      untracked  \n",
       "3                      untracked  \n",
       "4                      untracked  "
      ]
     },
     "execution_count": 44,
     "metadata": {},
     "output_type": "execute_result"
    }
   ],
   "source": [
    "feature_names = [\"DAC_Y\", \"DAC_M\", \"TFA_Y\", \"TFA_M\", 'gender', \n",
    "               'signup_method', 'language', 'affiliate_channel', 'affiliate_provider', \n",
    "               'signup_app', 'first_device_type', 'first_browser', \n",
    "               'age_unknown', 'age_over75%', 'age_25-75%', 'age_under75%', \n",
    "               'first_affiliate_tracked_filled']\n",
    "train[feature_names].head()"
   ]
  },
  {
   "cell_type": "code",
   "execution_count": 45,
   "id": "24008712",
   "metadata": {},
   "outputs": [
    {
     "name": "stdout",
     "output_type": "stream",
     "text": [
      "(213451, 82)\n",
      "0\n"
     ]
    },
    {
     "data": {
      "text/html": [
       "<div>\n",
       "<style scoped>\n",
       "    .dataframe tbody tr th:only-of-type {\n",
       "        vertical-align: middle;\n",
       "    }\n",
       "\n",
       "    .dataframe tbody tr th {\n",
       "        vertical-align: top;\n",
       "    }\n",
       "\n",
       "    .dataframe thead th {\n",
       "        text-align: right;\n",
       "    }\n",
       "</style>\n",
       "<table border=\"1\" class=\"dataframe\">\n",
       "  <thead>\n",
       "    <tr style=\"text-align: right;\">\n",
       "      <th></th>\n",
       "      <th>DAC_Y</th>\n",
       "      <th>DAC_M</th>\n",
       "      <th>DAC_D</th>\n",
       "      <th>TFA_Y</th>\n",
       "      <th>TFA_M</th>\n",
       "      <th>TFA_D</th>\n",
       "      <th>age_unknown</th>\n",
       "      <th>age_over75%</th>\n",
       "      <th>age_25-75%</th>\n",
       "      <th>age_under75%</th>\n",
       "      <th>...</th>\n",
       "      <th>first_browser_Safari</th>\n",
       "      <th>first_browser_Silk</th>\n",
       "      <th>first_affiliate_tracked_filled_-unknown-</th>\n",
       "      <th>first_affiliate_tracked_filled_linked</th>\n",
       "      <th>first_affiliate_tracked_filled_local ops</th>\n",
       "      <th>first_affiliate_tracked_filled_marketing</th>\n",
       "      <th>first_affiliate_tracked_filled_omg</th>\n",
       "      <th>first_affiliate_tracked_filled_product</th>\n",
       "      <th>first_affiliate_tracked_filled_tracked-other</th>\n",
       "      <th>first_affiliate_tracked_filled_untracked</th>\n",
       "    </tr>\n",
       "  </thead>\n",
       "  <tbody>\n",
       "    <tr>\n",
       "      <th>0</th>\n",
       "      <td>2010</td>\n",
       "      <td>6</td>\n",
       "      <td>28</td>\n",
       "      <td>2009</td>\n",
       "      <td>3</td>\n",
       "      <td>19</td>\n",
       "      <td>True</td>\n",
       "      <td>False</td>\n",
       "      <td>False</td>\n",
       "      <td>False</td>\n",
       "      <td>...</td>\n",
       "      <td>0</td>\n",
       "      <td>0</td>\n",
       "      <td>0</td>\n",
       "      <td>0</td>\n",
       "      <td>0</td>\n",
       "      <td>0</td>\n",
       "      <td>0</td>\n",
       "      <td>0</td>\n",
       "      <td>0</td>\n",
       "      <td>1</td>\n",
       "    </tr>\n",
       "    <tr>\n",
       "      <th>1</th>\n",
       "      <td>2011</td>\n",
       "      <td>5</td>\n",
       "      <td>25</td>\n",
       "      <td>2009</td>\n",
       "      <td>5</td>\n",
       "      <td>23</td>\n",
       "      <td>False</td>\n",
       "      <td>False</td>\n",
       "      <td>True</td>\n",
       "      <td>False</td>\n",
       "      <td>...</td>\n",
       "      <td>0</td>\n",
       "      <td>0</td>\n",
       "      <td>0</td>\n",
       "      <td>0</td>\n",
       "      <td>0</td>\n",
       "      <td>0</td>\n",
       "      <td>0</td>\n",
       "      <td>0</td>\n",
       "      <td>0</td>\n",
       "      <td>1</td>\n",
       "    </tr>\n",
       "  </tbody>\n",
       "</table>\n",
       "<p>2 rows × 82 columns</p>\n",
       "</div>"
      ],
      "text/plain": [
       "   DAC_Y  DAC_M  DAC_D  TFA_Y  TFA_M  TFA_D  age_unknown  age_over75%  \\\n",
       "0   2010      6     28   2009      3     19         True        False   \n",
       "1   2011      5     25   2009      5     23        False        False   \n",
       "\n",
       "   age_25-75%  age_under75%  ...  first_browser_Safari  first_browser_Silk  \\\n",
       "0       False         False  ...                     0                   0   \n",
       "1        True         False  ...                     0                   0   \n",
       "\n",
       "   first_affiliate_tracked_filled_-unknown-  \\\n",
       "0                                         0   \n",
       "1                                         0   \n",
       "\n",
       "   first_affiliate_tracked_filled_linked  \\\n",
       "0                                      0   \n",
       "1                                      0   \n",
       "\n",
       "   first_affiliate_tracked_filled_local ops  \\\n",
       "0                                         0   \n",
       "1                                         0   \n",
       "\n",
       "   first_affiliate_tracked_filled_marketing  \\\n",
       "0                                         0   \n",
       "1                                         0   \n",
       "\n",
       "   first_affiliate_tracked_filled_omg  first_affiliate_tracked_filled_product  \\\n",
       "0                                   0                                       0   \n",
       "1                                   0                                       0   \n",
       "\n",
       "   first_affiliate_tracked_filled_tracked-other  \\\n",
       "0                                             0   \n",
       "1                                             0   \n",
       "\n",
       "   first_affiliate_tracked_filled_untracked  \n",
       "0                                         1  \n",
       "1                                         1  \n",
       "\n",
       "[2 rows x 82 columns]"
      ]
     },
     "execution_count": 45,
     "metadata": {},
     "output_type": "execute_result"
    }
   ],
   "source": [
    "X_train = pd.get_dummies(train[feature_names])\n",
    "print(X_train.shape)\n",
    "print(X_train.isnull().sum().sum())\n",
    "X_train.head(2)"
   ]
  },
  {
   "cell_type": "code",
   "execution_count": 46,
   "id": "96d3d1f9",
   "metadata": {},
   "outputs": [
    {
     "name": "stdout",
     "output_type": "stream",
     "text": [
      "(62096, 82)\n",
      "0\n"
     ]
    },
    {
     "data": {
      "text/html": [
       "<div>\n",
       "<style scoped>\n",
       "    .dataframe tbody tr th:only-of-type {\n",
       "        vertical-align: middle;\n",
       "    }\n",
       "\n",
       "    .dataframe tbody tr th {\n",
       "        vertical-align: top;\n",
       "    }\n",
       "\n",
       "    .dataframe thead th {\n",
       "        text-align: right;\n",
       "    }\n",
       "</style>\n",
       "<table border=\"1\" class=\"dataframe\">\n",
       "  <thead>\n",
       "    <tr style=\"text-align: right;\">\n",
       "      <th></th>\n",
       "      <th>DAC_Y</th>\n",
       "      <th>DAC_M</th>\n",
       "      <th>DAC_D</th>\n",
       "      <th>TFA_Y</th>\n",
       "      <th>TFA_M</th>\n",
       "      <th>TFA_D</th>\n",
       "      <th>age_unknown</th>\n",
       "      <th>age_over75%</th>\n",
       "      <th>age_25-75%</th>\n",
       "      <th>age_under75%</th>\n",
       "      <th>...</th>\n",
       "      <th>first_browser_Safari</th>\n",
       "      <th>first_browser_Silk</th>\n",
       "      <th>first_affiliate_tracked_filled_-unknown-</th>\n",
       "      <th>first_affiliate_tracked_filled_linked</th>\n",
       "      <th>first_affiliate_tracked_filled_local ops</th>\n",
       "      <th>first_affiliate_tracked_filled_marketing</th>\n",
       "      <th>first_affiliate_tracked_filled_omg</th>\n",
       "      <th>first_affiliate_tracked_filled_product</th>\n",
       "      <th>first_affiliate_tracked_filled_tracked-other</th>\n",
       "      <th>first_affiliate_tracked_filled_untracked</th>\n",
       "    </tr>\n",
       "  </thead>\n",
       "  <tbody>\n",
       "    <tr>\n",
       "      <th>0</th>\n",
       "      <td>2014</td>\n",
       "      <td>7</td>\n",
       "      <td>1</td>\n",
       "      <td>2014</td>\n",
       "      <td>7</td>\n",
       "      <td>1</td>\n",
       "      <td>False</td>\n",
       "      <td>False</td>\n",
       "      <td>True</td>\n",
       "      <td>False</td>\n",
       "      <td>...</td>\n",
       "      <td>0</td>\n",
       "      <td>0</td>\n",
       "      <td>0</td>\n",
       "      <td>0</td>\n",
       "      <td>0</td>\n",
       "      <td>0</td>\n",
       "      <td>0</td>\n",
       "      <td>0</td>\n",
       "      <td>0</td>\n",
       "      <td>1</td>\n",
       "    </tr>\n",
       "    <tr>\n",
       "      <th>1</th>\n",
       "      <td>2014</td>\n",
       "      <td>7</td>\n",
       "      <td>1</td>\n",
       "      <td>2014</td>\n",
       "      <td>7</td>\n",
       "      <td>1</td>\n",
       "      <td>True</td>\n",
       "      <td>False</td>\n",
       "      <td>False</td>\n",
       "      <td>False</td>\n",
       "      <td>...</td>\n",
       "      <td>0</td>\n",
       "      <td>0</td>\n",
       "      <td>0</td>\n",
       "      <td>0</td>\n",
       "      <td>0</td>\n",
       "      <td>0</td>\n",
       "      <td>0</td>\n",
       "      <td>0</td>\n",
       "      <td>0</td>\n",
       "      <td>1</td>\n",
       "    </tr>\n",
       "  </tbody>\n",
       "</table>\n",
       "<p>2 rows × 82 columns</p>\n",
       "</div>"
      ],
      "text/plain": [
       "   DAC_Y  DAC_M  DAC_D  TFA_Y  TFA_M  TFA_D  age_unknown  age_over75%  \\\n",
       "0   2014      7      1   2014      7      1        False        False   \n",
       "1   2014      7      1   2014      7      1         True        False   \n",
       "\n",
       "   age_25-75%  age_under75%  ...  first_browser_Safari  first_browser_Silk  \\\n",
       "0        True         False  ...                     0                   0   \n",
       "1       False         False  ...                     0                   0   \n",
       "\n",
       "   first_affiliate_tracked_filled_-unknown-  \\\n",
       "0                                         0   \n",
       "1                                         0   \n",
       "\n",
       "   first_affiliate_tracked_filled_linked  \\\n",
       "0                                      0   \n",
       "1                                      0   \n",
       "\n",
       "   first_affiliate_tracked_filled_local ops  \\\n",
       "0                                         0   \n",
       "1                                         0   \n",
       "\n",
       "   first_affiliate_tracked_filled_marketing  \\\n",
       "0                                         0   \n",
       "1                                         0   \n",
       "\n",
       "   first_affiliate_tracked_filled_omg  first_affiliate_tracked_filled_product  \\\n",
       "0                                   0                                       0   \n",
       "1                                   0                                       0   \n",
       "\n",
       "   first_affiliate_tracked_filled_tracked-other  \\\n",
       "0                                             0   \n",
       "1                                             0   \n",
       "\n",
       "   first_affiliate_tracked_filled_untracked  \n",
       "0                                         1  \n",
       "1                                         1  \n",
       "\n",
       "[2 rows x 82 columns]"
      ]
     },
     "execution_count": 46,
     "metadata": {},
     "output_type": "execute_result"
    }
   ],
   "source": [
    "X_test = pd.get_dummies(test[feature_names])\n",
    "print(X_test.shape)\n",
    "print(X_test.isnull().sum().sum())\n",
    "X_test.head(2)"
   ]
  },
  {
   "cell_type": "code",
   "execution_count": 47,
   "id": "24d96c34",
   "metadata": {},
   "outputs": [
    {
     "name": "stdout",
     "output_type": "stream",
     "text": [
      "(213451,)\n"
     ]
    },
    {
     "data": {
      "text/plain": [
       "0    NDF\n",
       "1    NDF\n",
       "Name: country_destination, dtype: object"
      ]
     },
     "execution_count": 47,
     "metadata": {},
     "output_type": "execute_result"
    }
   ],
   "source": [
    "y_train = train[label_name]\n",
    "print(y_train.shape)\n",
    "y_train.head(2)"
   ]
  },
  {
   "cell_type": "markdown",
   "id": "64066b17",
   "metadata": {},
   "source": [
    "## 결정나무 머신러닝"
   ]
  },
  {
   "cell_type": "code",
   "execution_count": 48,
   "id": "5af5b04b",
   "metadata": {},
   "outputs": [
    {
     "data": {
      "text/plain": [
       "DecisionTreeClassifier(max_depth=10, max_features=80, min_samples_leaf=100,\n",
       "                       random_state=42)"
      ]
     },
     "execution_count": 48,
     "metadata": {},
     "output_type": "execute_result"
    }
   ],
   "source": [
    "from sklearn.tree import DecisionTreeClassifier\n",
    "\n",
    "model = DecisionTreeClassifier(random_state=42, max_depth=10, min_samples_leaf=100, max_features=80)\n",
    "model"
   ]
  },
  {
   "cell_type": "code",
   "execution_count": 49,
   "id": "58e3ea71",
   "metadata": {},
   "outputs": [],
   "source": [
    "from sklearn.model_selection import cross_validate, cross_val_score, cross_val_predict\n",
    "\n",
    "df_cross = pd.DataFrame(cross_validate(model, X_train, y_train, cv=10))"
   ]
  },
  {
   "cell_type": "code",
   "execution_count": 50,
   "id": "3f374f56",
   "metadata": {},
   "outputs": [
    {
     "data": {
      "text/plain": [
       "0.3112982971262429"
      ]
     },
     "execution_count": 50,
     "metadata": {},
     "output_type": "execute_result"
    }
   ],
   "source": [
    "df_cross[\"test_score\"].mean()"
   ]
  },
  {
   "cell_type": "markdown",
   "id": "8b51ae09",
   "metadata": {},
   "source": [
    "## train_test_split 모듈을 이용해서 분리 작업"
   ]
  },
  {
   "cell_type": "code",
   "execution_count": 51,
   "id": "4850ed9c",
   "metadata": {},
   "outputs": [
    {
     "data": {
      "text/plain": [
       "((213451, 82), (213451,))"
      ]
     },
     "execution_count": 51,
     "metadata": {},
     "output_type": "execute_result"
    }
   ],
   "source": [
    "X = pd.get_dummies(train[feature_names])\n",
    "y = train['country_destination']\n",
    "\n",
    "X.shape, y.shape"
   ]
  },
  {
   "cell_type": "code",
   "execution_count": 52,
   "id": "db94e0de",
   "metadata": {},
   "outputs": [],
   "source": [
    "from sklearn.model_selection import train_test_split\n",
    "\n",
    "XX_train, XX_test, yy_train, yy_test = train_test_split(X, y, random_state=41, stratify=y)"
   ]
  },
  {
   "cell_type": "code",
   "execution_count": 53,
   "id": "7ec9b46b",
   "metadata": {},
   "outputs": [
    {
     "data": {
      "text/plain": [
       "RandomForestClassifier()"
      ]
     },
     "execution_count": 53,
     "metadata": {},
     "output_type": "execute_result"
    }
   ],
   "source": [
    "from sklearn.ensemble import RandomForestClassifier\n",
    "\n",
    "RF = RandomForestClassifier()\n",
    "RF.fit(XX_train, yy_train)"
   ]
  },
  {
   "cell_type": "code",
   "execution_count": 54,
   "id": "64f17d67",
   "metadata": {},
   "outputs": [
    {
     "data": {
      "text/plain": [
       "0.5670033543841239"
      ]
     },
     "execution_count": 54,
     "metadata": {},
     "output_type": "execute_result"
    }
   ],
   "source": [
    "y_RF_predict = RF.predict(XX_test)\n",
    "(y_RF_predict == yy_test).mean()"
   ]
  },
  {
   "cell_type": "markdown",
   "id": "0e2a8e3d",
   "metadata": {},
   "source": [
    "## xgboost 사용"
   ]
  },
  {
   "cell_type": "code",
   "execution_count": 55,
   "id": "154f8bf7",
   "metadata": {},
   "outputs": [
    {
     "data": {
      "text/plain": [
       "((160088, 82), (160088,), (53363,), (53363,))"
      ]
     },
     "execution_count": 55,
     "metadata": {},
     "output_type": "execute_result"
    }
   ],
   "source": [
    "from sklearn.preprocessing import LabelEncoder\n",
    "\n",
    "le = LabelEncoder()\n",
    "y_xgb_train = le.fit_transform(yy_train)  \n",
    "y_xgb_test = le.fit_transform(yy_test)\n",
    "XX_train.shape, y_xgb_train.shape, yy_test.shape, y_xgb_test.shape"
   ]
  },
  {
   "cell_type": "code",
   "execution_count": 56,
   "id": "76972ee2",
   "metadata": {},
   "outputs": [
    {
     "data": {
      "text/plain": [
       "XGBClassifier(base_score=0.5, booster='gbtree', callbacks=None,\n",
       "              colsample_bylevel=1, colsample_bynode=1, colsample_bytree=1,\n",
       "              early_stopping_rounds=None, enable_categorical=False,\n",
       "              eval_metric=None, feature_types=None, gamma=0, gpu_id=-1,\n",
       "              grow_policy='depthwise', importance_type=None,\n",
       "              interaction_constraints='', learning_rate=0.300000012,\n",
       "              max_bin=256, max_cat_threshold=64, max_cat_to_onehot=4,\n",
       "              max_delta_step=0, max_depth=6, max_leaves=0, min_child_weight=1,\n",
       "              missing=nan, monotone_constraints='()', n_estimators=100,\n",
       "              n_jobs=0, num_parallel_tree=1, objective='multi:softprob',\n",
       "              predictor='auto', ...)"
      ]
     },
     "execution_count": 56,
     "metadata": {},
     "output_type": "execute_result"
    }
   ],
   "source": [
    "from xgboost.sklearn import XGBClassifier\n",
    "\n",
    "xgb = XGBClassifier()\n",
    "xgb.fit(XX_train, y_xgb_train)"
   ]
  },
  {
   "cell_type": "code",
   "execution_count": 57,
   "id": "5b0fd720",
   "metadata": {},
   "outputs": [
    {
     "data": {
      "text/plain": [
       "0.6332852350879823"
      ]
     },
     "execution_count": 57,
     "metadata": {},
     "output_type": "execute_result"
    }
   ],
   "source": [
    "y_xgb_predict = xgb.predict(XX_test)\n",
    "xgb_score = (y_xgb_predict == y_xgb_test).mean()\n",
    "(y_xgb_predict == y_xgb_test).mean()"
   ]
  },
  {
   "cell_type": "code",
   "execution_count": 58,
   "id": "f9740181",
   "metadata": {},
   "outputs": [
    {
     "data": {
      "text/plain": [
       "'\\n\\n# 나이브 베이스\\nfrom sklearn.naive_bayes import BernoulliNB\\n\\nbnb = BernoulliNB()\\nbnb.fit(X_train, y_train)\\n\\nsns.barplot(x=model.feature_importances_, y=model.feature_names_in_)\\n\\n'"
      ]
     },
     "execution_count": 58,
     "metadata": {},
     "output_type": "execute_result"
    }
   ],
   "source": [
    "\"\"\"\n",
    "\n",
    "# 나이브 베이스\n",
    "from sklearn.naive_bayes import BernoulliNB\n",
    "\n",
    "bnb = BernoulliNB()\n",
    "bnb.fit(X_train, y_train)\n",
    "\n",
    "sns.barplot(x=model.feature_importances_, y=model.feature_names_in_)\n",
    "\n",
    "\"\"\""
   ]
  },
  {
   "cell_type": "markdown",
   "id": "be78e940",
   "metadata": {},
   "source": [
    "# 제출하기"
   ]
  },
  {
   "cell_type": "code",
   "execution_count": 59,
   "id": "49458b53",
   "metadata": {},
   "outputs": [],
   "source": [
    "pre_sub = xgb.predict(X_test)\n",
    "sub_con = le.inverse_transform(pre_sub).tolist()\n",
    "final_con = pd.Series(data=sub_con)\n",
    "final_con_2 = pd.concat([df_2, final_con], axis=1)\n",
    "final_con_2 = final_con_2.drop(columns=\"country\")\n",
    "final_con_2.columns = [\"id\", \"country\"]"
   ]
  },
  {
   "cell_type": "code",
   "execution_count": 60,
   "id": "99d8c0d9",
   "metadata": {},
   "outputs": [
    {
     "data": {
      "text/html": [
       "<div>\n",
       "<style scoped>\n",
       "    .dataframe tbody tr th:only-of-type {\n",
       "        vertical-align: middle;\n",
       "    }\n",
       "\n",
       "    .dataframe tbody tr th {\n",
       "        vertical-align: top;\n",
       "    }\n",
       "\n",
       "    .dataframe thead th {\n",
       "        text-align: right;\n",
       "    }\n",
       "</style>\n",
       "<table border=\"1\" class=\"dataframe\">\n",
       "  <thead>\n",
       "    <tr style=\"text-align: right;\">\n",
       "      <th></th>\n",
       "      <th>id</th>\n",
       "      <th>country</th>\n",
       "    </tr>\n",
       "  </thead>\n",
       "  <tbody>\n",
       "    <tr>\n",
       "      <th>0</th>\n",
       "      <td>5uwns89zht</td>\n",
       "      <td>US</td>\n",
       "    </tr>\n",
       "    <tr>\n",
       "      <th>1</th>\n",
       "      <td>jtl0dijy2j</td>\n",
       "      <td>NDF</td>\n",
       "    </tr>\n",
       "    <tr>\n",
       "      <th>2</th>\n",
       "      <td>xx0ulgorjt</td>\n",
       "      <td>NDF</td>\n",
       "    </tr>\n",
       "    <tr>\n",
       "      <th>3</th>\n",
       "      <td>6c6puo6ix0</td>\n",
       "      <td>NDF</td>\n",
       "    </tr>\n",
       "    <tr>\n",
       "      <th>4</th>\n",
       "      <td>czqhjk3yfe</td>\n",
       "      <td>NDF</td>\n",
       "    </tr>\n",
       "    <tr>\n",
       "      <th>...</th>\n",
       "      <td>...</td>\n",
       "      <td>...</td>\n",
       "    </tr>\n",
       "    <tr>\n",
       "      <th>62091</th>\n",
       "      <td>cv0na2lf5a</td>\n",
       "      <td>US</td>\n",
       "    </tr>\n",
       "    <tr>\n",
       "      <th>62092</th>\n",
       "      <td>zp8xfonng8</td>\n",
       "      <td>NDF</td>\n",
       "    </tr>\n",
       "    <tr>\n",
       "      <th>62093</th>\n",
       "      <td>fa6260ziny</td>\n",
       "      <td>NDF</td>\n",
       "    </tr>\n",
       "    <tr>\n",
       "      <th>62094</th>\n",
       "      <td>87k0fy4ugm</td>\n",
       "      <td>NDF</td>\n",
       "    </tr>\n",
       "    <tr>\n",
       "      <th>62095</th>\n",
       "      <td>9uqfg8txu3</td>\n",
       "      <td>US</td>\n",
       "    </tr>\n",
       "  </tbody>\n",
       "</table>\n",
       "<p>62096 rows × 2 columns</p>\n",
       "</div>"
      ],
      "text/plain": [
       "               id country\n",
       "0      5uwns89zht      US\n",
       "1      jtl0dijy2j     NDF\n",
       "2      xx0ulgorjt     NDF\n",
       "3      6c6puo6ix0     NDF\n",
       "4      czqhjk3yfe     NDF\n",
       "...           ...     ...\n",
       "62091  cv0na2lf5a      US\n",
       "62092  zp8xfonng8     NDF\n",
       "62093  fa6260ziny     NDF\n",
       "62094  87k0fy4ugm     NDF\n",
       "62095  9uqfg8txu3      US\n",
       "\n",
       "[62096 rows x 2 columns]"
      ]
     },
     "execution_count": 60,
     "metadata": {},
     "output_type": "execute_result"
    }
   ],
   "source": [
    "final_con_2"
   ]
  },
  {
   "cell_type": "code",
   "execution_count": 61,
   "id": "c13b638c",
   "metadata": {},
   "outputs": [],
   "source": [
    "file_name = f\"xgb_{xgb_score:.4f}.csv\"\n",
    "final_con_2.to_csv(f\"score_{file_name}\", index=False)"
   ]
  },
  {
   "cell_type": "code",
   "execution_count": null,
   "id": "ba555706",
   "metadata": {},
   "outputs": [],
   "source": []
  }
 ],
 "metadata": {
  "kernelspec": {
   "display_name": "Python 3",
   "language": "python",
   "name": "python3"
  },
  "language_info": {
   "codemirror_mode": {
    "name": "ipython",
    "version": 3
   },
   "file_extension": ".py",
   "mimetype": "text/x-python",
   "name": "python",
   "nbconvert_exporter": "python",
   "pygments_lexer": "ipython3",
   "version": "3.10.8"
  },
  "toc": {
   "base_numbering": 1,
   "nav_menu": {},
   "number_sections": true,
   "sideBar": true,
   "skip_h1_title": false,
   "title_cell": "Table of Contents",
   "title_sidebar": "Contents",
   "toc_cell": false,
   "toc_position": {},
   "toc_section_display": true,
   "toc_window_display": false
  },
  "vscode": {
   "interpreter": {
    "hash": "e5fba1707fdc74f484cfec88559ba77013e57889b80c5bc014acf1344944064c"
   }
  }
 },
 "nbformat": 4,
 "nbformat_minor": 5
}
